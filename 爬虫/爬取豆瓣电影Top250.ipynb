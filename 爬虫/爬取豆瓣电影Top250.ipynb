{
 "cells": [
  {
   "cell_type": "markdown",
   "metadata": {},
   "source": [
    "### Step 1. 导入必要的库"
   ]
  },
  {
   "cell_type": "code",
   "execution_count": 31,
   "metadata": {},
   "outputs": [],
   "source": [
    "from bs4 import BeautifulSoup\n",
    "import requests\n",
    "import re\n",
    "import pandas as pd\n",
    "import numpy as np"
   ]
  },
  {
   "cell_type": "markdown",
   "metadata": {},
   "source": [
    "### Step 2. 定义列表和字典储存获取的信息"
   ]
  },
  {
   "cell_type": "code",
   "execution_count": 5,
   "metadata": {},
   "outputs": [],
   "source": [
    "# 储存爬取的信息\n",
    "movie_dict = {}\n",
    "\n",
    "# 直接提取的字符串\n",
    "movie_name = []      # 片名\n",
    "movie_review = []    # 短评\n",
    "\n",
    "# 需要处理的字符串\n",
    "movie_descriptions = []    # 导演、主演、国家、年代、类型等\n",
    "movie_rate = []            # 评分及人数"
   ]
  },
  {
   "cell_type": "markdown",
   "metadata": {},
   "source": [
    "### Step 3. 爬虫函数"
   ]
  },
  {
   "cell_type": "code",
   "execution_count": 6,
   "metadata": {},
   "outputs": [],
   "source": [
    "headers = {'User-Agent': 'Mozilla/5.0 (Linux; Android 6.0; Nexus 5 Build/MRA58N) AppleWebKit/537.36 (KHTML, like Gecko) Chrome/78.0.3904.108 Mobile Safari/537.36'}"
   ]
  },
  {
   "cell_type": "code",
   "execution_count": 7,
   "metadata": {},
   "outputs": [],
   "source": [
    "def spider_douban(url):\n",
    "    '''输入url，返回所需信息'''\n",
    "    response = requests.get(url, headers=headers, timeout=10)  # 加入headers，伪装成浏览器\n",
    "    response.encoding = 'utf-8'      # 设置格式\n",
    "    soup = BeautifulSoup(response.text, 'html.parser')    # 指定文档解析器为html.parser，同一篇文档被不同的解析器解析后可能会生成不同结构的树型文档\n",
    "\n",
    "    aim_contents = soup.find_all('div', class_='item')    # 先找到所需信息所在的标签：由25部电影信息组成的列表\n",
    "\n",
    "    for aim_content in aim_contents:                    # 需要string和get_text得到字符串信息 \n",
    "        movie_name.append(aim_content.find('span').string) \n",
    "        movie_review.append(aim_content.find('span', {'class': 'inq'}).string) \n",
    "        movie_descriptions.append(aim_content.find('p').get_text(strip=True))\n",
    "        movie_rate.append(aim_content.find('div', {'class': 'star'}).get_text(\",\", strip=True))"
   ]
  },
  {
   "cell_type": "markdown",
   "metadata": {},
   "source": [
    "### Step 4. 开始爬虫"
   ]
  },
  {
   "cell_type": "code",
   "execution_count": 8,
   "metadata": {},
   "outputs": [],
   "source": [
    "for i in range(0, 226, 25):\n",
    "    url = \"https://movie.douban.com/top250?start=%s&filter=\" % i\n",
    "    spider_douban(url)"
   ]
  },
  {
   "cell_type": "markdown",
   "metadata": {},
   "source": [
    "### Step 5. 检验爬虫结果"
   ]
  },
  {
   "cell_type": "code",
   "execution_count": 27,
   "metadata": {},
   "outputs": [
    {
     "data": {
      "text/plain": [
       "(250, '肖申克的救赎')"
      ]
     },
     "execution_count": 27,
     "metadata": {},
     "output_type": "execute_result"
    }
   ],
   "source": [
    "len(movie_name), movie_name[0]"
   ]
  },
  {
   "cell_type": "code",
   "execution_count": 26,
   "metadata": {},
   "outputs": [
    {
     "data": {
      "text/plain": [
       "(250, '希望让人自由。')"
      ]
     },
     "execution_count": 26,
     "metadata": {},
     "output_type": "execute_result"
    }
   ],
   "source": [
    "len(movie_review), movie_review[0]"
   ]
  },
  {
   "cell_type": "code",
   "execution_count": 21,
   "metadata": {},
   "outputs": [
    {
     "data": {
      "text/plain": [
       "(250,\n",
       " '导演: 弗兰克·德拉邦特 Frank Darabont\\xa0\\xa0\\xa0主演: 蒂姆·罗宾斯 Tim Robbins /...1994\\xa0/\\xa0美国\\xa0/\\xa0犯罪 剧情')"
      ]
     },
     "execution_count": 21,
     "metadata": {},
     "output_type": "execute_result"
    }
   ],
   "source": [
    "len(movie_descriptions), movie_descriptions[0]"
   ]
  },
  {
   "cell_type": "code",
   "execution_count": 75,
   "metadata": {},
   "outputs": [
    {
     "data": {
      "text/plain": [
       "(250, '9.7,1746699人评价')"
      ]
     },
     "execution_count": 75,
     "metadata": {},
     "output_type": "execute_result"
    }
   ],
   "source": [
    "len(movie_rate), movie_rate[0]"
   ]
  },
  {
   "cell_type": "markdown",
   "metadata": {},
   "source": [
    "### Step 6. 储存为DataFrame"
   ]
  },
  {
   "cell_type": "code",
   "execution_count": 28,
   "metadata": {},
   "outputs": [],
   "source": [
    "movie_dict['片名'] = movie_name\n",
    "movie_dict['短评'] = movie_review\n",
    "movie_dict['描述'] = movie_descriptions\n",
    "movie_dict['评分及人数'] = movie_rate"
   ]
  },
  {
   "cell_type": "code",
   "execution_count": 76,
   "metadata": {},
   "outputs": [],
   "source": [
    "df = pd.DataFrame(movie_dict)"
   ]
  },
  {
   "cell_type": "markdown",
   "metadata": {},
   "source": [
    "### Step 7. 数据处理"
   ]
  },
  {
   "cell_type": "code",
   "execution_count": 77,
   "metadata": {},
   "outputs": [
    {
     "data": {
      "text/html": [
       "<div>\n",
       "<style scoped>\n",
       "    .dataframe tbody tr th:only-of-type {\n",
       "        vertical-align: middle;\n",
       "    }\n",
       "\n",
       "    .dataframe tbody tr th {\n",
       "        vertical-align: top;\n",
       "    }\n",
       "\n",
       "    .dataframe thead th {\n",
       "        text-align: right;\n",
       "    }\n",
       "</style>\n",
       "<table border=\"1\" class=\"dataframe\">\n",
       "  <thead>\n",
       "    <tr style=\"text-align: right;\">\n",
       "      <th></th>\n",
       "      <th>片名</th>\n",
       "      <th>短评</th>\n",
       "      <th>描述</th>\n",
       "      <th>评分及人数</th>\n",
       "    </tr>\n",
       "  </thead>\n",
       "  <tbody>\n",
       "    <tr>\n",
       "      <th>1</th>\n",
       "      <td>肖申克的救赎</td>\n",
       "      <td>希望让人自由。</td>\n",
       "      <td>导演: 弗兰克·德拉邦特 Frank Darabont   主演: 蒂姆·罗宾斯 Tim R...</td>\n",
       "      <td>9.7,1746699人评价</td>\n",
       "    </tr>\n",
       "    <tr>\n",
       "      <th>2</th>\n",
       "      <td>霸王别姬</td>\n",
       "      <td>风华绝代。</td>\n",
       "      <td>导演: 陈凯歌 Kaige Chen   主演: 张国荣 Leslie Cheung / 张...</td>\n",
       "      <td>9.6,1290699人评价</td>\n",
       "    </tr>\n",
       "    <tr>\n",
       "      <th>3</th>\n",
       "      <td>阿甘正传</td>\n",
       "      <td>一部美国近现代史。</td>\n",
       "      <td>导演: 罗伯特·泽米吉斯 Robert Zemeckis   主演: 汤姆·汉克斯 Tom ...</td>\n",
       "      <td>9.5,1346921人评价</td>\n",
       "    </tr>\n",
       "    <tr>\n",
       "      <th>4</th>\n",
       "      <td>这个杀手不太冷</td>\n",
       "      <td>怪蜀黍和小萝莉不得不说的故事。</td>\n",
       "      <td>导演: 吕克·贝松 Luc Besson   主演: 让·雷诺 Jean Reno / 娜塔...</td>\n",
       "      <td>9.4,1541793人评价</td>\n",
       "    </tr>\n",
       "    <tr>\n",
       "      <th>5</th>\n",
       "      <td>美丽人生</td>\n",
       "      <td>最美的谎言。</td>\n",
       "      <td>导演: 罗伯托·贝尼尼 Roberto Benigni   主演: 罗伯托·贝尼尼 Robe...</td>\n",
       "      <td>9.5,819858人评价</td>\n",
       "    </tr>\n",
       "  </tbody>\n",
       "</table>\n",
       "</div>"
      ],
      "text/plain": [
       "        片名               短评  \\\n",
       "1   肖申克的救赎          希望让人自由。   \n",
       "2     霸王别姬            风华绝代。   \n",
       "3     阿甘正传        一部美国近现代史。   \n",
       "4  这个杀手不太冷  怪蜀黍和小萝莉不得不说的故事。   \n",
       "5     美丽人生           最美的谎言。   \n",
       "\n",
       "                                                  描述           评分及人数  \n",
       "1  导演: 弗兰克·德拉邦特 Frank Darabont   主演: 蒂姆·罗宾斯 Tim R...  9.7,1746699人评价  \n",
       "2  导演: 陈凯歌 Kaige Chen   主演: 张国荣 Leslie Cheung / 张...  9.6,1290699人评价  \n",
       "3  导演: 罗伯特·泽米吉斯 Robert Zemeckis   主演: 汤姆·汉克斯 Tom ...  9.5,1346921人评价  \n",
       "4  导演: 吕克·贝松 Luc Besson   主演: 让·雷诺 Jean Reno / 娜塔...  9.4,1541793人评价  \n",
       "5  导演: 罗伯托·贝尼尼 Roberto Benigni   主演: 罗伯托·贝尼尼 Robe...   9.5,819858人评价  "
      ]
     },
     "execution_count": 77,
     "metadata": {},
     "output_type": "execute_result"
    }
   ],
   "source": [
    "df.index = np.arange(1, 251)\n",
    "df.head()"
   ]
  },
  {
   "cell_type": "markdown",
   "metadata": {},
   "source": [
    "#### Step 7.1 描述：“导演: 弗兰克·德拉邦特 Frank Darabont\\xa0\\xa0\\xa0主演: 蒂姆·罗宾斯 Tim Robbins /...1994\\xa0/\\xa0美国\\xa0/\\xa0犯罪 剧情”"
   ]
  },
  {
   "cell_type": "markdown",
   "metadata": {},
   "source": [
    "#### ①提取出导演"
   ]
  },
  {
   "cell_type": "code",
   "execution_count": 78,
   "metadata": {},
   "outputs": [],
   "source": [
    "df['导演'] = df['描述'].apply(lambda x: re.search('导演: (\\S+)', x).group(1))"
   ]
  },
  {
   "cell_type": "markdown",
   "metadata": {},
   "source": [
    "#### ②提取出国家"
   ]
  },
  {
   "cell_type": "code",
   "execution_count": 79,
   "metadata": {},
   "outputs": [],
   "source": [
    "df['国家'] = df['描述'].apply(lambda x: re.split('/', x)[-2].strip())  # '\\xa0美国\\xa0'"
   ]
  },
  {
   "cell_type": "markdown",
   "metadata": {},
   "source": [
    "#### ③提取出类型"
   ]
  },
  {
   "cell_type": "code",
   "execution_count": 80,
   "metadata": {},
   "outputs": [],
   "source": [
    "df['类型'] = df['描述'].apply(lambda x: re.split('/', x)[-1].strip())  # '\\xa0犯罪 剧情'"
   ]
  },
  {
   "cell_type": "markdown",
   "metadata": {},
   "source": [
    "#### ④提取出年代"
   ]
  },
  {
   "cell_type": "code",
   "execution_count": 81,
   "metadata": {},
   "outputs": [],
   "source": [
    "df['年代'] = df['描述'].apply(lambda x: re.search('\\d+', x).group())"
   ]
  },
  {
   "cell_type": "code",
   "execution_count": 82,
   "metadata": {},
   "outputs": [],
   "source": [
    "df['年代'] = df['描述'].apply(lambda x: re.findall('\\d+', x)[0])     # re.findall()返回的是列表"
   ]
  },
  {
   "cell_type": "code",
   "execution_count": 83,
   "metadata": {},
   "outputs": [],
   "source": [
    "df['年代'] = df['描述'].str.extract('(\\d+)')"
   ]
  },
  {
   "cell_type": "markdown",
   "metadata": {},
   "source": [
    "#### Step 7.2 评分及人数：“9.7,1746699人评价”"
   ]
  },
  {
   "cell_type": "markdown",
   "metadata": {},
   "source": [
    "#### ①提取出评分"
   ]
  },
  {
   "cell_type": "code",
   "execution_count": 84,
   "metadata": {},
   "outputs": [],
   "source": [
    "df['评分'] = df['评分及人数'].apply(lambda x: x.split(',')[0])"
   ]
  },
  {
   "cell_type": "markdown",
   "metadata": {},
   "source": [
    "#### ②提取出评价人数"
   ]
  },
  {
   "cell_type": "code",
   "execution_count": 85,
   "metadata": {},
   "outputs": [],
   "source": [
    "df['人数'] = df['评分及人数'].apply(lambda x: re.search(',(\\d+)', x).group(1))"
   ]
  },
  {
   "cell_type": "markdown",
   "metadata": {},
   "source": [
    "#### Step 7.3 删除多余列，并调整顺序"
   ]
  },
  {
   "cell_type": "code",
   "execution_count": 86,
   "metadata": {},
   "outputs": [],
   "source": [
    "df = df.drop(['描述', '评分及人数'], axis=1)"
   ]
  },
  {
   "cell_type": "code",
   "execution_count": 87,
   "metadata": {},
   "outputs": [],
   "source": [
    "df = df.reindex(columns=['片名', '国家', '年代', '导演','评分','人数','类型','短评'])"
   ]
  },
  {
   "cell_type": "markdown",
   "metadata": {},
   "source": [
    "### Step 8. 查看数据，并保存到本地"
   ]
  },
  {
   "cell_type": "code",
   "execution_count": 89,
   "metadata": {},
   "outputs": [
    {
     "data": {
      "text/html": [
       "<div>\n",
       "<style scoped>\n",
       "    .dataframe tbody tr th:only-of-type {\n",
       "        vertical-align: middle;\n",
       "    }\n",
       "\n",
       "    .dataframe tbody tr th {\n",
       "        vertical-align: top;\n",
       "    }\n",
       "\n",
       "    .dataframe thead th {\n",
       "        text-align: right;\n",
       "    }\n",
       "</style>\n",
       "<table border=\"1\" class=\"dataframe\">\n",
       "  <thead>\n",
       "    <tr style=\"text-align: right;\">\n",
       "      <th></th>\n",
       "      <th>片名</th>\n",
       "      <th>国家</th>\n",
       "      <th>年代</th>\n",
       "      <th>导演</th>\n",
       "      <th>评分</th>\n",
       "      <th>人数</th>\n",
       "      <th>类型</th>\n",
       "      <th>短评</th>\n",
       "    </tr>\n",
       "  </thead>\n",
       "  <tbody>\n",
       "    <tr>\n",
       "      <th>1</th>\n",
       "      <td>肖申克的救赎</td>\n",
       "      <td>美国</td>\n",
       "      <td>1994</td>\n",
       "      <td>弗兰克·德拉邦特</td>\n",
       "      <td>9.7</td>\n",
       "      <td>1746699</td>\n",
       "      <td>犯罪 剧情</td>\n",
       "      <td>希望让人自由。</td>\n",
       "    </tr>\n",
       "    <tr>\n",
       "      <th>2</th>\n",
       "      <td>霸王别姬</td>\n",
       "      <td>中国大陆 中国香港</td>\n",
       "      <td>1993</td>\n",
       "      <td>陈凯歌</td>\n",
       "      <td>9.6</td>\n",
       "      <td>1290699</td>\n",
       "      <td>剧情 爱情 同性</td>\n",
       "      <td>风华绝代。</td>\n",
       "    </tr>\n",
       "    <tr>\n",
       "      <th>3</th>\n",
       "      <td>阿甘正传</td>\n",
       "      <td>美国</td>\n",
       "      <td>1994</td>\n",
       "      <td>罗伯特·泽米吉斯</td>\n",
       "      <td>9.5</td>\n",
       "      <td>1346921</td>\n",
       "      <td>剧情 爱情</td>\n",
       "      <td>一部美国近现代史。</td>\n",
       "    </tr>\n",
       "    <tr>\n",
       "      <th>4</th>\n",
       "      <td>这个杀手不太冷</td>\n",
       "      <td>法国</td>\n",
       "      <td>1994</td>\n",
       "      <td>吕克·贝松</td>\n",
       "      <td>9.4</td>\n",
       "      <td>1541793</td>\n",
       "      <td>剧情 动作 犯罪</td>\n",
       "      <td>怪蜀黍和小萝莉不得不说的故事。</td>\n",
       "    </tr>\n",
       "    <tr>\n",
       "      <th>5</th>\n",
       "      <td>美丽人生</td>\n",
       "      <td>意大利</td>\n",
       "      <td>1997</td>\n",
       "      <td>罗伯托·贝尼尼</td>\n",
       "      <td>9.5</td>\n",
       "      <td>819858</td>\n",
       "      <td>剧情 喜剧 爱情 战争</td>\n",
       "      <td>最美的谎言。</td>\n",
       "    </tr>\n",
       "    <tr>\n",
       "      <th>6</th>\n",
       "      <td>泰坦尼克号</td>\n",
       "      <td>美国</td>\n",
       "      <td>1997</td>\n",
       "      <td>詹姆斯·卡梅隆</td>\n",
       "      <td>9.4</td>\n",
       "      <td>1284683</td>\n",
       "      <td>剧情 爱情 灾难</td>\n",
       "      <td>失去的才是永恒的。</td>\n",
       "    </tr>\n",
       "    <tr>\n",
       "      <th>7</th>\n",
       "      <td>千与千寻</td>\n",
       "      <td>日本</td>\n",
       "      <td>2001</td>\n",
       "      <td>宫崎骏</td>\n",
       "      <td>9.3</td>\n",
       "      <td>1375715</td>\n",
       "      <td>剧情 动画 奇幻</td>\n",
       "      <td>最好的宫崎骏，最好的久石让。</td>\n",
       "    </tr>\n",
       "    <tr>\n",
       "      <th>8</th>\n",
       "      <td>辛德勒的名单</td>\n",
       "      <td>美国</td>\n",
       "      <td>1993</td>\n",
       "      <td>史蒂文·斯皮尔伯格</td>\n",
       "      <td>9.5</td>\n",
       "      <td>692749</td>\n",
       "      <td>剧情 历史 战争</td>\n",
       "      <td>拯救一个人，就是拯救整个世界。</td>\n",
       "    </tr>\n",
       "    <tr>\n",
       "      <th>9</th>\n",
       "      <td>盗梦空间</td>\n",
       "      <td>美国 英国</td>\n",
       "      <td>2010</td>\n",
       "      <td>克里斯托弗·诺兰</td>\n",
       "      <td>9.3</td>\n",
       "      <td>1312274</td>\n",
       "      <td>剧情 科幻 悬疑 冒险</td>\n",
       "      <td>诺兰给了我们一场无法盗取的梦。</td>\n",
       "    </tr>\n",
       "    <tr>\n",
       "      <th>10</th>\n",
       "      <td>忠犬八公的故事</td>\n",
       "      <td>美国 英国</td>\n",
       "      <td>2009</td>\n",
       "      <td>莱塞·霍尔斯道姆</td>\n",
       "      <td>9.3</td>\n",
       "      <td>889947</td>\n",
       "      <td>剧情</td>\n",
       "      <td>永远都不能忘记你所爱的人。</td>\n",
       "    </tr>\n",
       "  </tbody>\n",
       "</table>\n",
       "</div>"
      ],
      "text/plain": [
       "         片名         国家    年代         导演   评分       人数           类型  \\\n",
       "1    肖申克的救赎         美国  1994   弗兰克·德拉邦特  9.7  1746699        犯罪 剧情   \n",
       "2      霸王别姬  中国大陆 中国香港  1993        陈凯歌  9.6  1290699     剧情 爱情 同性   \n",
       "3      阿甘正传         美国  1994   罗伯特·泽米吉斯  9.5  1346921        剧情 爱情   \n",
       "4   这个杀手不太冷         法国  1994      吕克·贝松  9.4  1541793     剧情 动作 犯罪   \n",
       "5      美丽人生        意大利  1997    罗伯托·贝尼尼  9.5   819858  剧情 喜剧 爱情 战争   \n",
       "6     泰坦尼克号         美国  1997    詹姆斯·卡梅隆  9.4  1284683     剧情 爱情 灾难   \n",
       "7      千与千寻         日本  2001        宫崎骏  9.3  1375715     剧情 动画 奇幻   \n",
       "8    辛德勒的名单         美国  1993  史蒂文·斯皮尔伯格  9.5   692749     剧情 历史 战争   \n",
       "9      盗梦空间      美国 英国  2010   克里斯托弗·诺兰  9.3  1312274  剧情 科幻 悬疑 冒险   \n",
       "10  忠犬八公的故事      美国 英国  2009   莱塞·霍尔斯道姆  9.3   889947           剧情   \n",
       "\n",
       "                 短评  \n",
       "1           希望让人自由。  \n",
       "2             风华绝代。  \n",
       "3         一部美国近现代史。  \n",
       "4   怪蜀黍和小萝莉不得不说的故事。  \n",
       "5            最美的谎言。  \n",
       "6        失去的才是永恒的。   \n",
       "7   最好的宫崎骏，最好的久石让。   \n",
       "8   拯救一个人，就是拯救整个世界。  \n",
       "9   诺兰给了我们一场无法盗取的梦。  \n",
       "10    永远都不能忘记你所爱的人。  "
      ]
     },
     "execution_count": 89,
     "metadata": {},
     "output_type": "execute_result"
    }
   ],
   "source": [
    "df.head(10)"
   ]
  },
  {
   "cell_type": "code",
   "execution_count": 93,
   "metadata": {},
   "outputs": [],
   "source": [
    "df.to_csv('豆瓣电影Top250.csv', encoding='utf_8_sig')  # 需要指定编码格式，不然会乱码"
   ]
  },
  {
   "cell_type": "code",
   "execution_count": null,
   "metadata": {},
   "outputs": [],
   "source": []
  }
 ],
 "metadata": {
  "kernelspec": {
   "display_name": "Python 3",
   "language": "python",
   "name": "python3"
  },
  "language_info": {
   "codemirror_mode": {
    "name": "ipython",
    "version": 3
   },
   "file_extension": ".py",
   "mimetype": "text/x-python",
   "name": "python",
   "nbconvert_exporter": "python",
   "pygments_lexer": "ipython3",
   "version": "3.7.0"
  }
 },
 "nbformat": 4,
 "nbformat_minor": 2
}
