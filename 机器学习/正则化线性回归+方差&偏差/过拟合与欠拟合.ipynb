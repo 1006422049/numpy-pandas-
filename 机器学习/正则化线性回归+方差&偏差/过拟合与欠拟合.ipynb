{
 "cells": [
  {
   "cell_type": "code",
   "execution_count": 31,
   "metadata": {},
   "outputs": [],
   "source": [
    "import numpy as np\n",
    "import matplotlib.pyplot as plt\n",
    "import scipy.io #Used to load the OCTAVE *.mat files\n",
    "import scipy.optimize #fmin_cg to train the linear regression\n",
    "\n",
    "import warnings\n",
    "warnings.filterwarnings('ignore')"
   ]
  },
  {
   "cell_type": "markdown",
   "metadata": {},
   "source": [
    "## 1、正则化线性回归"
   ]
  },
  {
   "cell_type": "markdown",
   "metadata": {},
   "source": [
    "### 1.1 导入数据并可视化"
   ]
  },
  {
   "cell_type": "code",
   "execution_count": 32,
   "metadata": {},
   "outputs": [],
   "source": [
    "datafile = 'ex5data1.mat'\n",
    "mat = scipy.io.loadmat( datafile )\n",
    "\n",
    "x, y = mat['X'], mat['y'] # Training set: x.shape=(12, 1), y.shape=(12, 1)\n",
    "xval, yval = mat['Xval'], mat['yval'] # Cross validation set\n",
    "xtest, ytest = mat['Xtest'], mat['ytest'] # Test set"
   ]
  },
  {
   "cell_type": "code",
   "execution_count": 33,
   "metadata": {},
   "outputs": [
    {
     "data": {
      "text/plain": [
       "[<matplotlib.lines.Line2D at 0x208e5405cc0>]"
      ]
     },
     "execution_count": 33,
     "metadata": {},
     "output_type": "execute_result"
    },
    {
     "data": {
      "image/png": "[encoded data removed]",
      "text/plain": [
       "<Figure size 432x288 with 1 Axes>"
      ]
     },
     "metadata": {},
     "output_type": "display_data"
    }
   ],
   "source": [
    "plt.plot(x, y, 'rx')"
   ]
  },
  {
   "cell_type": "markdown",
   "metadata": {},
   "source": [
    "### 1.2 正则化线性回归并求解"
   ]
  },
  {
   "cell_type": "code",
   "execution_count": 34,
   "metadata": {},
   "outputs": [],
   "source": [
    "def h(theta, x):                 # h.shape=(m,1) # theta.shape=(n,1)    # x.shape=(m, n)\n",
    "    theta = theta.reshape(-1,1)\n",
    "    return np.dot(x, theta)"
   ]
  },
  {
   "cell_type": "code",
   "execution_count": 115,
   "metadata": {},
   "outputs": [],
   "source": [
    "def j(theta, x, y, lamb=0):\n",
    "    theta = theta.reshape(-1,1)\n",
    "    left = np.sum((h(theta, x) - y)**2)\n",
    "    right = lamb * np.sum(theta[1:]**2)\n",
    "    return 1/(2*m) * (left + right)"
   ]
  },
  {
   "cell_type": "code",
   "execution_count": 116,
   "metadata": {},
   "outputs": [],
   "source": [
    "def gradient(theta, x, y, lamb=0):\n",
    "    theta = theta.reshape(-1,1)\n",
    "    grad = 1/m * np.dot(x.T, h(theta, x)-y)\n",
    "    grad[1: ] = grad[1: ] + lamb/m * theta[1: ] \n",
    "    return grad.reshape(-1)"
   ]
  },
  {
   "cell_type": "code",
   "execution_count": 117,
   "metadata": {},
   "outputs": [],
   "source": [
    "def theta_solve(theta, x, y, lamb=0):\n",
    "    retult = scipy.optimize.fmin_tnc(func=j, x0=theta, args=(x, y, lamb), fprime=gradient)     # gradient与theta均为(n,)，不能为(n,1)\n",
    "    return retult"
   ]
  },
  {
   "cell_type": "code",
   "execution_count": 118,
   "metadata": {},
   "outputs": [],
   "source": [
    "m = x.shape[0]\n",
    "X = np.insert(x, 0, 1, 1)\n",
    "theta = np.zeros(2)"
   ]
  },
  {
   "cell_type": "code",
   "execution_count": 119,
   "metadata": {},
   "outputs": [
    {
     "data": {
      "text/plain": [
       "[<matplotlib.lines.Line2D at 0x208e6f1f978>]"
      ]
     },
     "execution_count": 119,
     "metadata": {},
     "output_type": "execute_result"
    },
    {
     "data": {
      "image/png": "[encoded data removed]",
      "text/plain": [
       "<Figure size 432x288 with 1 Axes>"
      ]
     },
     "metadata": {},
     "output_type": "display_data"
    }
   ],
   "source": [
    "result = theta_solve(theta, X, y, lamb)\n",
    "\n",
    "theta = result[0]\n",
    "\n",
    "a = np.array([np.min(x), np.max(x)])\n",
    "b = theta[0] + theta[1] * a\n",
    "\n",
    "plt.plot(x, y, 'rx')\n",
    "plt.plot(a, b)"
   ]
  },
  {
   "cell_type": "markdown",
   "metadata": {},
   "source": [
    "## 2、学习曲线"
   ]
  },
  {
   "cell_type": "code",
   "execution_count": 120,
   "metadata": {},
   "outputs": [],
   "source": [
    "x_curve = np.array(np.arange(1,13)) # (12, )"
   ]
  },
  {
   "cell_type": "code",
   "execution_count": 121,
   "metadata": {},
   "outputs": [],
   "source": [
    "error_train = []\n",
    "error_cross = []\n",
    "for i in range(1, 13):\n",
    "    m = X[:i].shape[0]\n",
    "    theta = np.zeros(2)\n",
    "    result = theta_solve(theta, X[:i], y[:i], 0)\n",
    "    theta = result[0]\n",
    "    \n",
    "    error_train.append(j(theta, X[:i], y[:i], 0))\n",
    "    \n",
    "    error_cross.append(j(theta,np.insert(xval, 0, 1, 1), yval, 0))"
   ]
  },
  {
   "cell_type": "code",
   "execution_count": 122,
   "metadata": {},
   "outputs": [
    {
     "data": {
      "text/plain": [
       "Text(0,0.5,'Error')"
      ]
     },
     "execution_count": 122,
     "metadata": {},
     "output_type": "execute_result"
    },
    {
     "data": {
      "image/png": "[encoded data removed]",
      "text/plain": [
       "<Figure size 432x288 with 1 Axes>"
      ]
     },
     "metadata": {},
     "output_type": "display_data"
    }
   ],
   "source": [
    "plt.plot(x_curve, error_train, 'b', label='Train')\n",
    "plt.plot(x_curve, error_cross, 'r', label='Cross Validation')\n",
    "plt.legend()\n",
    "plt.title('Learning curve for linear regression')\n",
    "plt.xlabel('Number of training examples')\n",
    "plt.ylabel('Error')"
   ]
  },
  {
   "cell_type": "markdown",
   "metadata": {},
   "source": [
    "## 3、多项式回归"
   ]
  },
  {
   "cell_type": "code",
   "execution_count": 123,
   "metadata": {},
   "outputs": [],
   "source": [
    "def map_feature(x, n):\n",
    "    '''将x从一维转换到多维'''\n",
    "    m = x.shape[0]\n",
    "    out = np.zeros((m, n+1))\n",
    "    for i in range(n+1):\n",
    "        out[:, i] = (x ** i).reshape(-1)\n",
    "    return out\n",
    "\n",
    "def normalize_feature(x): # 必须进行归一化处理，不然degree的次数越大，可能出现误差也越大的情况。\n",
    "    '''归一化多维的x'''\n",
    "    x[:, 1:] = (x[:, 1:] - x[:, 1:].mean(axis=0))/x[:, 1:].std(axis=0)\n",
    "    return x  "
   ]
  },
  {
   "cell_type": "code",
   "execution_count": 164,
   "metadata": {},
   "outputs": [],
   "source": [
    "def theta_solve_degree(degree, lamb=0):\n",
    "    '''输入degree，输出theta和处理后的x'''\n",
    "    m = x.shape[0]\n",
    "    theta = np.zeros(degree+1)\n",
    "\n",
    "    x_normalized = normalize_feature(map_feature(x, degree))\n",
    "    result = theta_solve(theta, x_normalized, y, lamb)\n",
    "\n",
    "    theta = result[0]  # (-1)\n",
    "    \n",
    "    return theta\n",
    "\n",
    "def plot_data_degree(degree):\n",
    "    '''输入degree，输出拟合结果'''\n",
    "    theta = theta_solve_degree(degree)\n",
    "    x_normalized = normalize_feature(map_feature(x, degree))\n",
    "    plt.plot(x, y, 'x')\n",
    "    \n",
    "    a = np.linspace(np.min(x), np.max(x), 50).reshape(-1,1)  # 用新建的x这个画图\n",
    "    b = h(theta, normalize_feature(map_feature(a, degree)))\n",
    "    plt.plot(a, b)\n",
    "    # plt.plot(np.sort(x,axis=0) ,h(theta, x_normalized)[np.argsort(x.reshape(-1),axis=0)]) # 折线图x必须有序，否则会乱。\n",
    "    plt.title('degree=%d'%degree)"
   ]
  },
  {
   "cell_type": "code",
   "execution_count": 159,
   "metadata": {},
   "outputs": [
    {
     "data": {
      "text/plain": [
       "array([11.21758931, 13.14361763, 11.48728397, -0.54242062, -4.97045201])"
      ]
     },
     "execution_count": 159,
     "metadata": {},
     "output_type": "execute_result"
    }
   ],
   "source": [
    "theta_solve_degree(4)"
   ]
  },
  {
   "cell_type": "code",
   "execution_count": 165,
   "metadata": {},
   "outputs": [
    {
     "data": {
      "image/png": "[encoded data removed]",
      "text/plain": [
       "<Figure size 432x288 with 1 Axes>"
      ]
     },
     "metadata": {},
     "output_type": "display_data"
    }
   ],
   "source": [
    "plot_data_degree(10)"
   ]
  },
  {
   "cell_type": "code",
   "execution_count": 135,
   "metadata": {},
   "outputs": [
    {
     "data": {
      "text/plain": [
       "<matplotlib.legend.Legend at 0x208e71b49b0>"
      ]
     },
     "execution_count": 135,
     "metadata": {},
     "output_type": "execute_result"
    },
    {
     "data": {
      "image/png": "[encoded data removed]",
      "text/plain": [
       "<Figure size 432x288 with 1 Axes>"
      ]
     },
     "metadata": {},
     "output_type": "display_data"
    }
   ],
   "source": [
    "# degree与误差\n",
    "j_train = []\n",
    "j_cross = []\n",
    "lamb = 0\n",
    "degree = 10\n",
    "for i in range(10):\n",
    "    theta = theta_solve_degree(i)\n",
    "    j_train.append(j(theta, normalize_feature(map_feature(x, i)), y, lamb))\n",
    "    j_cross.append(j(theta, normalize_feature(map_feature(xval, i)), yval, lamb))\n",
    "\n",
    "plt.plot(range(degree), j_train, label='Train')\n",
    "plt.plot(range(degree), j_cross, label='Cross Vadidation')\n",
    "plt.xlabel('degree')\n",
    "plt.ylabel('Error')\n",
    "plt.legend()"
   ]
  },
  {
   "cell_type": "markdown",
   "metadata": {},
   "source": [
    "## 4、正则化参数"
   ]
  },
  {
   "cell_type": "code",
   "execution_count": 141,
   "metadata": {},
   "outputs": [
    {
     "data": {
      "text/plain": [
       "<matplotlib.legend.Legend at 0x208e7436a90>"
      ]
     },
     "execution_count": 141,
     "metadata": {},
     "output_type": "execute_result"
    },
    {
     "data": {
      "image/png": "[encoded data removed]",
      "text/plain": [
       "<Figure size 432x288 with 1 Axes>"
      ]
     },
     "metadata": {},
     "output_type": "display_data"
    }
   ],
   "source": [
    "lamb = 15\n",
    "j_train = []\n",
    "j_cross = []\n",
    "for i in range(lamb):\n",
    "    theta = theta_solve_degree(20, lamb=i)\n",
    "    j_train.append(j(theta, normalize_feature(map_feature(x, 20)), y, i))\n",
    "    j_cross.append(j(theta, normalize_feature(map_feature(xval, 20)), yval, i))\n",
    "    \n",
    "plt.plot(range(lamb), j_train, label='Train')\n",
    "plt.plot(range(lamb), j_cross, label='Cross Vadidation')\n",
    "plt.xlabel('lambda')\n",
    "plt.ylabel('Error')\n",
    "plt.legend()"
   ]
  },
  {
   "cell_type": "code",
   "execution_count": null,
   "metadata": {},
   "outputs": [],
   "source": []
  }
 ],
 "metadata": {
  "kernelspec": {
   "display_name": "Python 3",
   "language": "python",
   "name": "python3"
  },
  "language_info": {
   "codemirror_mode": {
    "name": "ipython",
    "version": 3
   },
   "file_extension": ".py",
   "mimetype": "text/x-python",
   "name": "python",
   "nbconvert_exporter": "python",
   "pygments_lexer": "ipython3",
   "version": "3.7.0"
  }
 },
 "nbformat": 4,
 "nbformat_minor": 2
}
